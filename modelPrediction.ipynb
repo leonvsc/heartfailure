{
 "cells": [
  {
   "cell_type": "code",
   "execution_count": 10,
   "metadata": {},
   "outputs": [],
   "source": [
    "import pandas as pd\n",
    "from sklearn.model_selection import train_test_split\n",
    "from sklearn.linear_model import LinearRegression, LogisticRegression, RidgeClassifier, Lasso\n",
    "from sklearn.tree import DecisionTreeClassifier\n",
    "from sklearn.ensemble import RandomForestClassifier, GradientBoostingClassifier\n",
    "from sklearn.metrics import accuracy_score, roc_auc_score, f1_score"
   ]
  },
  {
   "cell_type": "code",
   "execution_count": 11,
   "metadata": {},
   "outputs": [
    {
     "name": "stdout",
     "output_type": "stream",
     "text": [
      "   Age ChestPainType  RestingBP Cholesterol  FastingBS  RestingECG  MaxHR  \\\n",
      "0   46           ASY        100           H          1           1    133   \n",
      "1   56           NAP        125           H          1           0     98   \n",
      "2   42           ASY        105           H          1           0    128   \n",
      "3   38           NAP        100           H          0           0    179   \n",
      "4   56           ASY        115           H          1           1     82   \n",
      "\n",
      "   ExerciseAngina _ True  Oldpeak ST_Slope  HeartDisease  \n",
      "0                      0       26     Flat             1  \n",
      "1                      0       20     Flat             1  \n",
      "2                      1       15     Down             1  \n",
      "3                      0       11       Up             0  \n",
      "4                      0       10       Up             1  \n",
      "<class 'pandas.core.frame.DataFrame'>\n",
      "RangeIndex: 720 entries, 0 to 719\n",
      "Data columns (total 11 columns):\n",
      " #   Column                 Non-Null Count  Dtype \n",
      "---  ------                 --------------  ----- \n",
      " 0   Age                    720 non-null    int64 \n",
      " 1   ChestPainType          720 non-null    object\n",
      " 2   RestingBP              720 non-null    int64 \n",
      " 3   Cholesterol            720 non-null    object\n",
      " 4   FastingBS              720 non-null    int64 \n",
      " 5   RestingECG             720 non-null    int64 \n",
      " 6   MaxHR                  720 non-null    int64 \n",
      " 7   ExerciseAngina _ True  720 non-null    int64 \n",
      " 8   Oldpeak                720 non-null    int64 \n",
      " 9   ST_Slope               720 non-null    object\n",
      " 10  HeartDisease           720 non-null    int64 \n",
      "dtypes: int64(8), object(3)\n",
      "memory usage: 62.0+ KB\n",
      "None\n"
     ]
    }
   ],
   "source": [
    "# Stap 2: Inlezen en voorbereiden van de data\n",
    "# Lees de CSV-bestand in (vervang 'path/to/your/dataset.csv' met de daadwerkelijke pad naar je CSV)\n",
    "# df = pd.read_csv('data.csv', sep=';')\n",
    "# df = pd.read_csv('cleaned_data.csv', sep=';')\n",
    "# df = pd.read_csv('cleaned_and_featured_data.csv', sep=';')\n",
    "# df = pd.read_csv('cleaned_and_featured_data_males.csv', sep=';')\n",
    "df = pd.read_csv('cleaned_and_featured_data_females.csv', sep=';')\n",
    "\n",
    "# Verken de data (optioneel)\n",
    "print(df.head())  # Print de eerste paar regels van de dataset\n",
    "print(df.info())  # Geef een overzicht van de dataset\n",
    "\n",
    "# Selecteer de features (X) en de target variabele (y)\n",
    "# X = df.drop(['HeartDisease', 'CaseNumber', 'LastName', 'PostCode'], axis=1)\n",
    "X = df.drop(['HeartDisease'], axis=1)  # Verwijder niet-relevante kolommen\n",
    "y = df['HeartDisease']\n",
    "\n",
    "# Converteer categorische kolommen naar numeriek (One-Hot Encoding voor categorische features)\n",
    "X = pd.get_dummies(X, drop_first=True)\n",
    "\n",
    "# Splits de data in een train- en testset (80% trainen, 20% testen)\n",
    "X_train, X_test, y_train, y_test = train_test_split(X, y, test_size=0.2, random_state=42)\n"
   ]
  },
  {
   "cell_type": "code",
   "execution_count": 12,
   "metadata": {},
   "outputs": [
    {
     "name": "stdout",
     "output_type": "stream",
     "text": [
      "Error training Linear Regression: Classification metrics can't handle a mix of binary and continuous targets\n",
      "Logistic Regression - Accuracy: 0.9028, ROC AUC: 0.9655, F1 Score: 0.9213\n",
      "Ridge Classifier - Accuracy: 0.9028, ROC AUC: 0.8970, F1 Score: 0.9213\n",
      "Error training Lasso Regression: Classification metrics can't handle a mix of binary and continuous targets\n",
      "Decision Tree - Accuracy: 0.8056, ROC AUC: 0.7906, F1 Score: 0.8444\n",
      "Random Forest - Accuracy: 0.8889, ROC AUC: 0.9596, F1 Score: 0.9101\n",
      "Gradient Boosting - Accuracy: 0.9167, ROC AUC: 0.9718, F1 Score: 0.9326\n",
      "\n",
      "Best model based on ROC AUC: Gradient Boosting\n"
     ]
    }
   ],
   "source": [
    "# Stap 3: Model Selectie en Training\n",
    "# Definieer de modellen die je wilt proberen\n",
    "models = {\n",
    "    \"Linear Regression\": LinearRegression(),  # Voorbeeldmodel, gebruik voor vergelijking, niet echt voor classificatie\n",
    "    \"Logistic Regression\": LogisticRegression(max_iter=10000),\n",
    "    \"Ridge Classifier\": RidgeClassifier(),\n",
    "    \"Lasso Regression\": Lasso(),  # Voorbeeldmodel, gebruik voor vergelijking, niet echt voor classificatie\n",
    "    \"Decision Tree\": DecisionTreeClassifier(),\n",
    "    \"Random Forest\": RandomForestClassifier(),\n",
    "    \"Gradient Boosting\": GradientBoostingClassifier(),\n",
    "}\n",
    "\n",
    "# Train elk model en evalueer de prestaties\n",
    "results = {}\n",
    "for name, model in models.items():\n",
    "    try:\n",
    "        model.fit(X_train, y_train)  # Train het model\n",
    "        \n",
    "        # Check of predict_proba beschikbaar is, anders gebruik predict direct voor ROC AUC\n",
    "        if hasattr(model, \"predict_proba\"):\n",
    "            y_pred_proba = model.predict_proba(X_test)[:, 1]\n",
    "        else:\n",
    "            # Voor lineaire regressie en lasso, cast naar binair resultaat\n",
    "            y_pred_proba = model.predict(X_test)\n",
    "            y_pred_proba = (y_pred_proba >= 0.5).astype(int)  # Simuleer classificatie output\n",
    "        \n",
    "        y_pred = model.predict(X_test)  # Voorspel met de testdata\n",
    "        accuracy = accuracy_score(y_test, y_pred)  # Bereken de nauwkeurigheid\n",
    "        roc_auc = roc_auc_score(y_test, y_pred_proba)  # Bereken de ROC AUC\n",
    "        f1 = f1_score(y_test, y_pred)  # Bereken de F1-score\n",
    "        \n",
    "        results[name] = {'Accuracy': accuracy, 'ROC AUC': roc_auc, 'F1 Score': f1}\n",
    "        # Print de evaluatie metrics\n",
    "        print(f\"{name} - Accuracy: {accuracy:.4f}, ROC AUC: {roc_auc:.4f}, F1 Score: {f1:.4f}\")\n",
    "    \n",
    "    except Exception as e:\n",
    "        print(f\"Error training {name}: {e}\")\n",
    "\n",
    "# Bepaal welk model de beste prestaties levert op basis van ROC AUC\n",
    "best_model = max(results, key=lambda x: results[x]['ROC AUC'])\n",
    "print(f\"\\nBest model based on ROC AUC: {best_model}\")"
   ]
  }
 ],
 "metadata": {
  "kernelspec": {
   "display_name": "heartfailure",
   "language": "python",
   "name": "python3"
  },
  "language_info": {
   "codemirror_mode": {
    "name": "ipython",
    "version": 3
   },
   "file_extension": ".py",
   "mimetype": "text/x-python",
   "name": "python",
   "nbconvert_exporter": "python",
   "pygments_lexer": "ipython3",
   "version": "3.12.6"
  }
 },
 "nbformat": 4,
 "nbformat_minor": 2
}
