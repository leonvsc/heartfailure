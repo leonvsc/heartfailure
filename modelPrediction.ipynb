{
 "cells": [
  {
   "cell_type": "code",
   "execution_count": 1,
   "metadata": {},
   "outputs": [],
   "source": [
    "import pandas as pd\n",
    "from sklearn.model_selection import train_test_split\n",
    "from sklearn.linear_model import LinearRegression, LogisticRegression, RidgeClassifier, Lasso\n",
    "from sklearn.tree import DecisionTreeClassifier\n",
    "from sklearn.ensemble import RandomForestClassifier, GradientBoostingClassifier\n",
    "from sklearn.metrics import accuracy_score, roc_auc_score, f1_score"
   ]
  },
  {
   "cell_type": "code",
   "execution_count": 2,
   "metadata": {},
   "outputs": [
    {
     "name": "stdout",
     "output_type": "stream",
     "text": [
      "    CaseNumber  LastName  PostCode  Age Sex ChestPainType  RestingBP  \\\n",
      "0  825-37-0603     Stout     82490   46   M           ASY        100   \n",
      "1  533-80-6803  Gonzalez       696   56   M           NAP        125   \n",
      "2  161-71-2407     Smith     44762   42   M           ASY        105   \n",
      "3  598-01-6389  Townsend     21753   38   M           NAP        100   \n",
      "4  142-50-9256      Ford     74606   56   M           ASY        115   \n",
      "\n",
      "   Cholesterol  FastingBS  RestingECG  MaxHR ExerciseAngina  Oldpeak ST_Slope  \\\n",
      "0          244          1           1    133              N       26     Flat   \n",
      "1          244          1           0     98              N       20     Flat   \n",
      "2          244          1           0    128              Y       15     Down   \n",
      "3          244          0           0    179              N       11       Up   \n",
      "4          244          1           1     82              N       10       Up   \n",
      "\n",
      "   HeartDisease  \n",
      "0             1  \n",
      "1             1  \n",
      "2             1  \n",
      "3             0  \n",
      "4             1  \n",
      "<class 'pandas.core.frame.DataFrame'>\n",
      "RangeIndex: 913 entries, 0 to 912\n",
      "Data columns (total 15 columns):\n",
      " #   Column          Non-Null Count  Dtype \n",
      "---  ------          --------------  ----- \n",
      " 0   CaseNumber      913 non-null    object\n",
      " 1   LastName        913 non-null    object\n",
      " 2   PostCode        913 non-null    int64 \n",
      " 3   Age             913 non-null    int64 \n",
      " 4   Sex             913 non-null    object\n",
      " 5   ChestPainType   913 non-null    object\n",
      " 6   RestingBP       913 non-null    int64 \n",
      " 7   Cholesterol     913 non-null    int64 \n",
      " 8   FastingBS       913 non-null    int64 \n",
      " 9   RestingECG      913 non-null    int64 \n",
      " 10  MaxHR           913 non-null    int64 \n",
      " 11  ExerciseAngina  913 non-null    object\n",
      " 12  Oldpeak         913 non-null    int64 \n",
      " 13  ST_Slope        913 non-null    object\n",
      " 14  HeartDisease    913 non-null    int64 \n",
      "dtypes: int64(9), object(6)\n",
      "memory usage: 107.1+ KB\n",
      "None\n"
     ]
    }
   ],
   "source": [
    "# Stap 2: Inlezen en voorbereiden van de data\n",
    "# Lees de CSV-bestand in (vervang 'path/to/your/dataset.csv' met de daadwerkelijke pad naar je CSV)\n",
    "df = pd.read_csv('cleaned_data.csv', sep=';')\n",
    "\n",
    "# Verken de data (optioneel)\n",
    "print(df.head())  # Print de eerste paar regels van de dataset\n",
    "print(df.info())  # Geef een overzicht van de dataset\n",
    "\n",
    "# Selecteer de features (X) en de target variabele (y)\n",
    "X = df.drop(['HeartDisease' ,'CaseNumber', 'LastName', 'PostCode'], axis=1)  # Verwijder niet-relevante kolommen\n",
    "y = df['HeartDisease']\n",
    "\n",
    "# Converteer categorische kolommen naar numeriek (One-Hot Encoding voor categorische features)\n",
    "X = pd.get_dummies(X, drop_first=True)\n",
    "\n",
    "# Splits de data in een train- en testset (80% trainen, 20% testen)\n",
    "X_train, X_test, y_train, y_test = train_test_split(X, y, test_size=0.2, random_state=42)\n"
   ]
  },
  {
   "cell_type": "code",
   "execution_count": 3,
   "metadata": {},
   "outputs": [
    {
     "name": "stdout",
     "output_type": "stream",
     "text": [
      "Error training Linear Regression: Classification metrics can't handle a mix of binary and continuous targets\n",
      "Logistic Regression - Accuracy: 0.8634, ROC AUC: 0.9340, F1 Score: 0.8768\n",
      "Ridge Classifier - Accuracy: 0.8634, ROC AUC: 0.8616, F1 Score: 0.8792\n",
      "Error training Lasso Regression: Classification metrics can't handle a mix of binary and continuous targets\n",
      "Decision Tree - Accuracy: 0.7596, ROC AUC: 0.7504, F1 Score: 0.7944\n",
      "Random Forest - Accuracy: 0.8962, ROC AUC: 0.9506, F1 Score: 0.9100\n",
      "Gradient Boosting - Accuracy: 0.8907, ROC AUC: 0.9383, F1 Score: 0.9038\n",
      "\n",
      "Best model based on ROC AUC: Random Forest\n"
     ]
    }
   ],
   "source": [
    "# Stap 3: Model Selectie en Training\n",
    "# Definieer de modellen die je wilt proberen\n",
    "models = {\n",
    "    \"Linear Regression\": LinearRegression(),  # Voorbeeldmodel, gebruik voor vergelijking, niet echt voor classificatie\n",
    "    \"Logistic Regression\": LogisticRegression(max_iter=10000),\n",
    "    \"Ridge Classifier\": RidgeClassifier(),\n",
    "    \"Lasso Regression\": Lasso(),  # Voorbeeldmodel, gebruik voor vergelijking, niet echt voor classificatie\n",
    "    \"Decision Tree\": DecisionTreeClassifier(),\n",
    "    \"Random Forest\": RandomForestClassifier(),\n",
    "    \"Gradient Boosting\": GradientBoostingClassifier(),\n",
    "}\n",
    "\n",
    "# Train elk model en evalueer de prestaties\n",
    "results = {}\n",
    "for name, model in models.items():\n",
    "    try:\n",
    "        model.fit(X_train, y_train)  # Train het model\n",
    "        \n",
    "        # Check of predict_proba beschikbaar is, anders gebruik predict direct voor ROC AUC\n",
    "        if hasattr(model, \"predict_proba\"):\n",
    "            y_pred_proba = model.predict_proba(X_test)[:, 1]\n",
    "        else:\n",
    "            # Voor lineaire regressie en lasso, cast naar binair resultaat\n",
    "            y_pred_proba = model.predict(X_test)\n",
    "            y_pred_proba = (y_pred_proba >= 0.5).astype(int)  # Simuleer classificatie output\n",
    "        \n",
    "        y_pred = model.predict(X_test)  # Voorspel met de testdata\n",
    "        accuracy = accuracy_score(y_test, y_pred)  # Bereken de nauwkeurigheid\n",
    "        roc_auc = roc_auc_score(y_test, y_pred_proba)  # Bereken de ROC AUC\n",
    "        f1 = f1_score(y_test, y_pred)  # Bereken de F1-score\n",
    "        \n",
    "        results[name] = {'Accuracy': accuracy, 'ROC AUC': roc_auc, 'F1 Score': f1}\n",
    "        # Print de evaluatie metrics\n",
    "        print(f\"{name} - Accuracy: {accuracy:.4f}, ROC AUC: {roc_auc:.4f}, F1 Score: {f1:.4f}\")\n",
    "    \n",
    "    except Exception as e:\n",
    "        print(f\"Error training {name}: {e}\")\n",
    "\n",
    "# Bepaal welk model de beste prestaties levert op basis van ROC AUC\n",
    "best_model = max(results, key=lambda x: results[x]['ROC AUC'])\n",
    "print(f\"\\nBest model based on ROC AUC: {best_model}\")"
   ]
  }
 ],
 "metadata": {
  "kernelspec": {
   "display_name": "heartfailure",
   "language": "python",
   "name": "python3"
  },
  "language_info": {
   "codemirror_mode": {
    "name": "ipython",
    "version": 3
   },
   "file_extension": ".py",
   "mimetype": "text/x-python",
   "name": "python",
   "nbconvert_exporter": "python",
   "pygments_lexer": "ipython3",
   "version": "3.12.6"
  }
 },
 "nbformat": 4,
 "nbformat_minor": 2
}
